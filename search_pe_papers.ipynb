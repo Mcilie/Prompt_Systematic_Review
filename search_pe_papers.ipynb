{
 "cells": [
  {
   "cell_type": "code",
   "execution_count": null,
   "metadata": {},
   "outputs": [],
   "source": [
    "from utils import search_arxiv, count_articles"
   ]
  },
  {
   "cell_type": "code",
   "execution_count": null,
   "metadata": {},
   "outputs": [],
   "source": [
    "out = search_arxiv(\"prompt engineering\")"
   ]
  },
  {
   "cell_type": "code",
   "execution_count": null,
   "metadata": {},
   "outputs": [],
   "source": [
    "import csv\n",
    "from xml.etree import ElementTree as ET\n",
    "\n",
    "root = ET.fromstring(out)\n",
    "entries = root.findall('{http://www.w3.org/2005/Atom}entry')\n",
    "\n",
    "# Create a list to store the data\n",
    "data = []\n",
    "\n",
    "for entry in entries:\n",
    "    summary = entry.find('{http://www.w3.org/2005/Atom}title').text\n",
    "    link = entry.find('{http://www.w3.org/2005/Atom}link').attrib['href']\n",
    "    data.append([summary, link])\n",
    "\n",
    "# Define the CSV file name\n",
    "csv_file_name = 'prompt_engineering_arxiv.csv'\n",
    "\n",
    "# Write data to a CSV file\n",
    "with open(csv_file_name, 'w', newline='', encoding='utf-8') as file:\n",
    "    writer = csv.writer(file)\n",
    "    writer.writerow(['Title', 'Link'])  # Write the header\n",
    "    writer.writerows(data)\n",
    "\n",
    "print(f'Data saved to {csv_file_name}.')\n"
   ]
  }
 ],
 "metadata": {
  "kernelspec": {
   "display_name": "prompt_survey",
   "language": "python",
   "name": "python3"
  },
  "language_info": {
   "codemirror_mode": {
    "name": "ipython",
    "version": 3
   },
   "file_extension": ".py",
   "mimetype": "text/x-python",
   "name": "python",
   "nbconvert_exporter": "python",
   "pygments_lexer": "ipython3",
   "version": "3.10.13"
  }
 },
 "nbformat": 4,
 "nbformat_minor": 2
}
